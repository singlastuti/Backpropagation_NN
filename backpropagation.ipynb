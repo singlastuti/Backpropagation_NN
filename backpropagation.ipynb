{
 "cells": [
  {
   "cell_type": "code",
   "execution_count": null,
   "metadata": {},
   "outputs": [],
   "source": [
    "import torch\n",
    "import torch.nn as nn\n",
    "import torch.optim as optim\n",
    "\n",
    "# Define the neural network architecture\n",
    "class TwoLayerNN(nn.Module):\n",
    "    def _init_(self):\n",
    "        super(TwoLayerNN, self)._init_()\n",
    "        self.fc1 = nn.Linear(2, 2)  # Input layer to hidden layer\n",
    "        self.fc2 = nn.Linear(2, 2)  # Hidden layer to output layer\n",
    "\n",
    "    def forward(self, x):\n",
    "        x = torch.relu(self.fc1(x))  # ReLU activation for hidden layer\n",
    "        x = self.fc2(x)\n",
    "        return x\n",
    "\n",
    "# Define the input and target\n",
    "x = torch.tensor([[1.0, 1.0]])\n",
    "target = torch.tensor([[1.0, 5.0]])  # Dummy target for illustration\n",
    "\n",
    "# Initialize the model\n",
    "model = TwoLayerNN()\n",
    "\n",
    "# Define loss function and optimizer\n",
    "criterion = nn.MSELoss()\n",
    "optimizer = optim.SGD(model.parameters(), lr=0.1)\n",
    "\n",
    "# Forward pass\n",
    "output = model(x)\n",
    "\n",
    "# Compute loss\n",
    "loss = criterion(output, target)\n",
    "\n",
    "# Backward pass\n",
    "optimizer.zero_grad()\n",
    "loss.backward()\n",
    "\n",
    "# Print gradients\n",
    "print(\"Gradients for layer 1:\")\n",
    "print(model.fc1.weight.grad)\n",
    "print(model.fc1.bias.grad)\n",
    "print(\"\\nGradients for layer 2:\")\n",
    "print(model.fc2.weight.grad)\n",
    "print(model.fc2.bias.grad)\n"
   ]
  }
 ],
 "metadata": {
  "language_info": {
   "name": "python"
  }
 },
 "nbformat": 4,
 "nbformat_minor": 2
}
